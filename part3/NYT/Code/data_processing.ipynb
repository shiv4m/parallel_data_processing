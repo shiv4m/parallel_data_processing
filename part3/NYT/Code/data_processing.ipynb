{
 "cells": [
  {
   "cell_type": "markdown",
   "metadata": {},
   "source": [
    "## Importing libraries"
   ]
  },
  {
   "cell_type": "code",
   "execution_count": 1,
   "metadata": {},
   "outputs": [],
   "source": [
    "import nltk\n",
    "from nltk.corpus import stopwords\n",
    "from nltk.tokenize import word_tokenize\n",
    "import re\n",
    "from nltk.tokenize import RegexpTokenizer\n",
    "from nltk.stem import SnowballStemmer\n",
    "import os\n",
    "cwd = os.getcwd()"
   ]
  },
  {
   "cell_type": "markdown",
   "metadata": {},
   "source": [
    "## Processing data - removing hyperlinks, emojis, accents, stop words and numbers"
   ]
  },
  {
   "cell_type": "code",
   "execution_count": 6,
   "metadata": {},
   "outputs": [],
   "source": [
    "def process_data(tweets):\n",
    "    snow = SnowballStemmer('english')\n",
    "    stop_words = set(stopwords.words('english'))\n",
    "    t_col = []\n",
    "    tweet = re.sub(r'http\\S+', '', str(tweets)) #removing hyperlinks\n",
    "    tokenizer = RegexpTokenizer(r'\\w+') #tokenizing only english words\n",
    "    tweet = tokenizer.tokenize(tweet)\n",
    "    tweets = ' '.join(tweet)\n",
    "    words_token = word_tokenize(tweets)\n",
    "    fil_sen = ''\n",
    "    for w in words_token:\n",
    "        if w.lower() not in stop_words and not w.isdigit() and len(w)>3 and w.isalpha() : #removing stopwords, numbers\n",
    "            fil_sen = fil_sen + \" \" + w.lower()\n",
    "    t_col.append(str(fil_sen.encode(\"utf-8\")))\n",
    "    z = ''.join(t_col)\n",
    "    return z.lstrip()"
   ]
  },
  {
   "cell_type": "code",
   "execution_count": 12,
   "metadata": {},
   "outputs": [],
   "source": [
    "ff = open(\"clean_data/unstemmed_data/cc/sports_cleaned_cc.txt\", \"w\")\n",
    "with open(cwd+\"/raw_data/cc_raw/sports_raw.txt\") as fi:\n",
    "    content = fi.read().splitlines()\n",
    "    for z in content:\n",
    "        ff.write(process_data(str(z)))\n",
    "        ff.write(\"\\n\")\n",
    "    ff.close()"
   ]
  }
 ],
 "metadata": {
  "kernelspec": {
   "display_name": "Python 2",
   "language": "python",
   "name": "python2"
  },
  "language_info": {
   "codemirror_mode": {
    "name": "ipython",
    "version": 2
   },
   "file_extension": ".py",
   "mimetype": "text/x-python",
   "name": "python",
   "nbconvert_exporter": "python",
   "pygments_lexer": "ipython2",
   "version": "2.7.15"
  }
 },
 "nbformat": 4,
 "nbformat_minor": 2
}
